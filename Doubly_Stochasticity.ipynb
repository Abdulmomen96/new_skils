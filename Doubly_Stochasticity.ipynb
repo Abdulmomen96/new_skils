{
 "cells": [
  {
   "cell_type": "code",
   "execution_count": 11,
   "id": "f9ff76d0",
   "metadata": {},
   "outputs": [],
   "source": [
    "import numpy as np\n",
    "\n",
    "def generate_doubly_stochastic_matrix(size):\n",
    "    # Generate a random matrix\n",
    "    matrix = np.random.rand(size, size)\n",
    "    \n",
    "    # Normalize rows to ensure row sums are equal to 1\n",
    "    row_sums = matrix.sum(axis=1, keepdims=True)\n",
    "    doubly_stochastic_matrix = matrix / row_sums\n",
    "    \n",
    "    # Normalize columns to ensure column sums are equal to 1\n",
    "    col_sums = doubly_stochastic_matrix.sum(axis=0, keepdims=True)\n",
    "    doubly_stochastic_matrix /= col_sums\n",
    "    \n",
    "    return doubly_stochastic_matrix\n",
    "\n",
    "# Set the size of the matrix (e.g., 3x3)\n",
    "matrix_size = 50\n",
    "\n",
    "# Generate a doubly stochastic matrix\n",
    "A = generate_doubly_stochastic_matrix(matrix_size)\n",
    "\n"
   ]
  },
  {
   "cell_type": "code",
   "execution_count": 12,
   "id": "33045227",
   "metadata": {},
   "outputs": [],
   "source": [
    "v = np.ones([matrix_size, 1])"
   ]
  },
  {
   "cell_type": "code",
   "execution_count": 13,
   "id": "bdb24ddc",
   "metadata": {},
   "outputs": [],
   "source": [
    "result = A@v"
   ]
  },
  {
   "cell_type": "code",
   "execution_count": 14,
   "id": "a062561d",
   "metadata": {},
   "outputs": [
    {
     "name": "stdout",
     "output_type": "stream",
     "text": [
      "Result:\n",
      "[[1.0156977 ]\n",
      " [1.01921214]\n",
      " [0.99703086]\n",
      " [1.0031701 ]\n",
      " [0.99906518]\n",
      " [0.98106947]\n",
      " [0.99729649]\n",
      " [0.99684684]\n",
      " [1.00934941]\n",
      " [1.01385824]\n",
      " [0.99179045]\n",
      " [1.01226284]\n",
      " [1.0002754 ]\n",
      " [0.99433182]\n",
      " [0.99577543]\n",
      " [0.99870196]\n",
      " [1.01385771]\n",
      " [1.01004878]\n",
      " [0.99121237]\n",
      " [0.99887724]\n",
      " [0.99338086]\n",
      " [1.00413852]\n",
      " [0.99921513]\n",
      " [0.99358829]\n",
      " [0.99151761]\n",
      " [1.01205688]\n",
      " [0.99293352]\n",
      " [0.99876475]\n",
      " [1.01132456]\n",
      " [1.0080272 ]\n",
      " [0.99059233]\n",
      " [0.99842058]\n",
      " [0.99211593]\n",
      " [1.00523165]\n",
      " [0.99226834]\n",
      " [1.01104985]\n",
      " [0.99664307]\n",
      " [0.99828253]\n",
      " [1.00215757]\n",
      " [0.99967019]\n",
      " [0.98539302]\n",
      " [0.99750492]\n",
      " [1.02157153]\n",
      " [0.98891583]\n",
      " [0.99252117]\n",
      " [1.00885935]\n",
      " [0.99440259]\n",
      " [0.99527652]\n",
      " [0.99414513]\n",
      " [0.99030016]]\n"
     ]
    }
   ],
   "source": [
    "print(\"Result:\")\n",
    "print(result)"
   ]
  },
  {
   "cell_type": "code",
   "execution_count": 17,
   "id": "3acaa0ed",
   "metadata": {},
   "outputs": [
    {
     "name": "stdout",
     "output_type": "stream",
     "text": [
      "Eigenvalues:\n",
      "(1.0000000000000007+0j)\n",
      "\n",
      "Eigenvectors:\n",
      "[ 0.1419639 +0.j          0.02461431+0.00431894j  0.02461431-0.00431894j\n",
      "  0.04094211-0.10910855j  0.04094211+0.10910855j  0.11848307+0.j\n",
      " -0.10764308+0.03434683j -0.10764308-0.03434683j -0.08315173+0.j\n",
      " -0.03578161-0.10348248j -0.03578161+0.10348248j -0.09083211+0.00342714j\n",
      " -0.09083211-0.00342714j  0.14857993+0.09020534j  0.14857993-0.09020534j\n",
      " -0.05244203+0.01131854j -0.05244203-0.01131854j -0.04816411+0.13310133j\n",
      " -0.04816411-0.13310133j  0.21888394+0.0309002j   0.21888394-0.0309002j\n",
      " -0.05943874+0.17207716j -0.05943874-0.17207716j -0.28691534+0.j\n",
      "  0.29193952+0.j          0.29193952-0.j          0.04028931-0.02725256j\n",
      "  0.04028931+0.02725256j  0.12971946-0.07229733j  0.12971946+0.07229733j\n",
      "  0.09980027-0.16822511j  0.09980027+0.16822511j -0.10425625+0.10461677j\n",
      " -0.10425625-0.10461677j -0.35683285+0.j          0.26913518-0.06423783j\n",
      "  0.26913518+0.06423783j  0.0392814 +0.11874637j  0.0392814 -0.11874637j\n",
      " -0.22720138-0.02025818j -0.22720138+0.02025818j  0.19348788+0.1022757j\n",
      "  0.19348788-0.1022757j   0.03516169+0.j         -0.11085146+0.j\n",
      "  0.05271274+0.16578273j  0.05271274-0.16578273j  0.07723561+0.10453324j\n",
      "  0.07723561-0.10453324j -0.04601268+0.j        ]\n"
     ]
    }
   ],
   "source": [
    "# Compute eigenvalues and eigenvectors\n",
    "eigenvalues, eigenvectors = np.linalg.eig(A)\n",
    "\n",
    "print(\"Eigenvalues:\")\n",
    "print(eigenvalues[0])\n",
    "print(\"\\nEigenvectors:\")\n",
    "print(eigenvectors[3])"
   ]
  },
  {
   "cell_type": "code",
   "execution_count": null,
   "id": "7e685885",
   "metadata": {},
   "outputs": [],
   "source": []
  }
 ],
 "metadata": {
  "kernelspec": {
   "display_name": "Python 3",
   "language": "python",
   "name": "python3"
  },
  "language_info": {
   "codemirror_mode": {
    "name": "ipython",
    "version": 3
   },
   "file_extension": ".py",
   "mimetype": "text/x-python",
   "name": "python",
   "nbconvert_exporter": "python",
   "pygments_lexer": "ipython3",
   "version": "3.8.8"
  }
 },
 "nbformat": 4,
 "nbformat_minor": 5
}
